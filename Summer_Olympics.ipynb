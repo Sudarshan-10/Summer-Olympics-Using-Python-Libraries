{
  "nbformat": 4,
  "nbformat_minor": 0,
  "metadata": {
    "colab": {
      "name": "Summer Olympics.ipynb",
      "provenance": [],
      "collapsed_sections": []
    },
    "kernelspec": {
      "name": "python3",
      "display_name": "Python 3"
    },
    "language_info": {
      "name": "python"
    }
  },
  "cells": [
    {
      "cell_type": "markdown",
      "metadata": {
        "id": "w5xA7YmiDRy5"
      },
      "source": [
        "## **Summer Olympics Data Analysis Assignment**"
      ]
    },
    {
      "cell_type": "code",
      "metadata": {
        "colab": {
          "base_uri": "https://localhost:8080/",
          "height": 203
        },
        "id": "Z22NnvaIDdm6",
        "outputId": "01a6ca8e-19ed-4b65-bb1d-85d088f4ccc3"
      },
      "source": [
        "import numpy as np\n",
        "import pandas as pd\n",
        "import matplotlib.pyplot as plt\n",
        "df=pd.read_csv(\"summer.csv\")\n",
        "df.head()"
      ],
      "execution_count": 1,
      "outputs": [
        {
          "output_type": "execute_result",
          "data": {
            "text/html": [
              "<div>\n",
              "<style scoped>\n",
              "    .dataframe tbody tr th:only-of-type {\n",
              "        vertical-align: middle;\n",
              "    }\n",
              "\n",
              "    .dataframe tbody tr th {\n",
              "        vertical-align: top;\n",
              "    }\n",
              "\n",
              "    .dataframe thead th {\n",
              "        text-align: right;\n",
              "    }\n",
              "</style>\n",
              "<table border=\"1\" class=\"dataframe\">\n",
              "  <thead>\n",
              "    <tr style=\"text-align: right;\">\n",
              "      <th></th>\n",
              "      <th>Year</th>\n",
              "      <th>City</th>\n",
              "      <th>Sport</th>\n",
              "      <th>Discipline</th>\n",
              "      <th>Athlete</th>\n",
              "      <th>Country</th>\n",
              "      <th>Gender</th>\n",
              "      <th>Event</th>\n",
              "      <th>Medal</th>\n",
              "    </tr>\n",
              "  </thead>\n",
              "  <tbody>\n",
              "    <tr>\n",
              "      <th>0</th>\n",
              "      <td>1896</td>\n",
              "      <td>Athens</td>\n",
              "      <td>Aquatics</td>\n",
              "      <td>Swimming</td>\n",
              "      <td>HAJOS, Alfred</td>\n",
              "      <td>HUN</td>\n",
              "      <td>Men</td>\n",
              "      <td>100M Freestyle</td>\n",
              "      <td>Gold</td>\n",
              "    </tr>\n",
              "    <tr>\n",
              "      <th>1</th>\n",
              "      <td>1896</td>\n",
              "      <td>Athens</td>\n",
              "      <td>Aquatics</td>\n",
              "      <td>Swimming</td>\n",
              "      <td>HERSCHMANN, Otto</td>\n",
              "      <td>AUT</td>\n",
              "      <td>Men</td>\n",
              "      <td>100M Freestyle</td>\n",
              "      <td>Silver</td>\n",
              "    </tr>\n",
              "    <tr>\n",
              "      <th>2</th>\n",
              "      <td>1896</td>\n",
              "      <td>Athens</td>\n",
              "      <td>Aquatics</td>\n",
              "      <td>Swimming</td>\n",
              "      <td>DRIVAS, Dimitrios</td>\n",
              "      <td>GRE</td>\n",
              "      <td>Men</td>\n",
              "      <td>100M Freestyle For Sailors</td>\n",
              "      <td>Bronze</td>\n",
              "    </tr>\n",
              "    <tr>\n",
              "      <th>3</th>\n",
              "      <td>1896</td>\n",
              "      <td>Athens</td>\n",
              "      <td>Aquatics</td>\n",
              "      <td>Swimming</td>\n",
              "      <td>MALOKINIS, Ioannis</td>\n",
              "      <td>GRE</td>\n",
              "      <td>Men</td>\n",
              "      <td>100M Freestyle For Sailors</td>\n",
              "      <td>Gold</td>\n",
              "    </tr>\n",
              "    <tr>\n",
              "      <th>4</th>\n",
              "      <td>1896</td>\n",
              "      <td>Athens</td>\n",
              "      <td>Aquatics</td>\n",
              "      <td>Swimming</td>\n",
              "      <td>CHASAPIS, Spiridon</td>\n",
              "      <td>GRE</td>\n",
              "      <td>Men</td>\n",
              "      <td>100M Freestyle For Sailors</td>\n",
              "      <td>Silver</td>\n",
              "    </tr>\n",
              "  </tbody>\n",
              "</table>\n",
              "</div>"
            ],
            "text/plain": [
              "   Year    City     Sport  ... Gender                       Event   Medal\n",
              "0  1896  Athens  Aquatics  ...    Men              100M Freestyle    Gold\n",
              "1  1896  Athens  Aquatics  ...    Men              100M Freestyle  Silver\n",
              "2  1896  Athens  Aquatics  ...    Men  100M Freestyle For Sailors  Bronze\n",
              "3  1896  Athens  Aquatics  ...    Men  100M Freestyle For Sailors    Gold\n",
              "4  1896  Athens  Aquatics  ...    Men  100M Freestyle For Sailors  Silver\n",
              "\n",
              "[5 rows x 9 columns]"
            ]
          },
          "metadata": {},
          "execution_count": 1
        }
      ]
    },
    {
      "cell_type": "markdown",
      "metadata": {
        "id": "K9hnBk8SD4bj"
      },
      "source": [
        "# **1. In how many cities Summer Olympics is held so far?**"
      ]
    },
    {
      "cell_type": "code",
      "metadata": {
        "colab": {
          "base_uri": "https://localhost:8080/"
        },
        "id": "1Jfx2vnfEIb0",
        "outputId": "62530f19-81bc-428e-f548-7ce4f7b57b29"
      },
      "source": [
        "count=0\n",
        "for i in df['City'].unique():\n",
        "  count+=1\n",
        "print(count)"
      ],
      "execution_count": 2,
      "outputs": [
        {
          "output_type": "stream",
          "name": "stdout",
          "text": [
            "22\n"
          ]
        }
      ]
    },
    {
      "cell_type": "markdown",
      "metadata": {
        "id": "K30c9NK5FGs1"
      },
      "source": [
        "**Summer Olympics is held in 22 cities**"
      ]
    },
    {
      "cell_type": "markdown",
      "metadata": {
        "id": "isf3oehwF4Cn"
      },
      "source": [
        "##2) Which sport is having most number of Gold medals so far? (Top 5)"
      ]
    },
    {
      "cell_type": "code",
      "metadata": {
        "colab": {
          "base_uri": "https://localhost:8080/",
          "height": 399
        },
        "id": "wGrXADfQHKbZ",
        "outputId": "7e8e0731-7fe3-4eda-ec99-d94b91efee95"
      },
      "source": [
        "data=[]\n",
        "ex=df[df['Medal']=='Gold']\n",
        "for sport in ex['Sport'].unique():\n",
        "    data.append([sport,len(ex[ex['Sport']==sport])])\n",
        "data=pd.DataFrame(data,columns=['Sport','Medals'])\n",
        "data=data.sort_values(by='Medals',ascending=False).head(5)\n",
        "print(data.plot(x='Sport',y='Medals',kind='bar',figsize=(5,5)))"
      ],
      "execution_count": 3,
      "outputs": [
        {
          "output_type": "stream",
          "name": "stdout",
          "text": [
            "AxesSubplot(0.125,0.125;0.775x0.755)\n"
          ]
        },
        {
          "output_type": "display_data",
          "data": {
            "image/png": "[encoded data removed]",
            "text/plain": [
              "<Figure size 360x360 with 1 Axes>"
            ]
          },
          "metadata": {
            "needs_background": "light"
          }
        }
      ]
    },
    {
      "cell_type": "markdown",
      "metadata": {
        "id": "X0a7m7IIHUZC"
      },
      "source": [
        "**'Aquatics', 'Athletics', 'Rowing', 'Gymnastics', 'Fencing'** are the sports having most number of Gold Medals"
      ]
    },
    {
      "cell_type": "markdown",
      "metadata": {
        "id": "_tq8Vz2jHuHk"
      },
      "source": [
        "##3) Which sport is having most number of medals so far? (Top 5)"
      ]
    },
    {
      "cell_type": "code",
      "metadata": {
        "colab": {
          "base_uri": "https://localhost:8080/",
          "height": 399
        },
        "id": "fwmAtBrCH1r8",
        "outputId": "dafe70ca-e659-417c-cffc-706496c7cdb5"
      },
      "source": [
        "df=pd.read_csv(\"summer.csv\")\n",
        "df[\"Sport\"].value_counts()[0:5]\n",
        "data=[]\n",
        "for sport in df['Sport'].unique():\n",
        "    data.append([sport,len(df[df['Sport']==sport])])\n",
        "data=pd.DataFrame(data,columns=['Sport','Medals'])\n",
        "data=data.sort_values(by='Medals',ascending=False).head(5)\n",
        "print(data.plot(x='Sport',y='Medals',kind='bar',figsize=(5,5)))"
      ],
      "execution_count": 4,
      "outputs": [
        {
          "output_type": "stream",
          "name": "stdout",
          "text": [
            "AxesSubplot(0.125,0.125;0.775x0.755)\n"
          ]
        },
        {
          "output_type": "display_data",
          "data": {
            "image/png": "[encoded data removed]",
            "text/plain": [
              "<Figure size 360x360 with 1 Axes>"
            ]
          },
          "metadata": {
            "needs_background": "light"
          }
        }
      ]
    },
    {
      "cell_type": "markdown",
      "metadata": {
        "id": "PQObil-6Jlhh"
      },
      "source": [
        "**'Aquatics', 'Athletics', 'Rowing', 'Gymnastics', 'Fencing'** are the sports having most number of  Medals."
      ]
    },
    {
      "cell_type": "markdown",
      "metadata": {
        "id": "jNydxGlJKILp"
      },
      "source": [
        "##4. Which player has won most number of medals? (Top 5)"
      ]
    },
    {
      "cell_type": "code",
      "metadata": {
        "colab": {
          "base_uri": "https://localhost:8080/",
          "height": 458
        },
        "id": "3Jsuej8yKyJ0",
        "outputId": "bc147a1e-ea05-4a4c-9968-6ff4257ef8c5"
      },
      "source": [
        "data=[]\n",
        "for player in df['Athlete'].unique():\n",
        "    data.append([player,len(df[df['Athlete']==player])])\n",
        "data=pd.DataFrame(data,columns=['Player','Medals'])\n",
        "data=data.sort_values(by='Medals',ascending=False).head(5)\n",
        "print(data.plot(x='Player',y='Medals',kind='bar',figsize=(5,5)))"
      ],
      "execution_count": 5,
      "outputs": [
        {
          "output_type": "stream",
          "name": "stdout",
          "text": [
            "AxesSubplot(0.125,0.125;0.775x0.755)\n"
          ]
        },
        {
          "output_type": "display_data",
          "data": {
            "image/png": "[encoded data removed]",
            "text/plain": [
              "<Figure size 360x360 with 1 Axes>"
            ]
          },
          "metadata": {
            "needs_background": "light"
          }
        }
      ]
    },
    {
      "cell_type": "markdown",
      "metadata": {
        "id": "8wkcjsSLLiSd"
      },
      "source": [
        "**'PHELPS, Michael', 'LATYNINA, Larisa', 'ANDRIANOV, Nikolay' 'MANGIAROTTI, Edoardo', 'ONO, Takashi'** are the players who has won most number of medals."
      ]
    },
    {
      "cell_type": "markdown",
      "metadata": {
        "id": "zF78Hz7UK75r"
      },
      "source": [
        "##5) Which player has won most number Gold Medals of medals? (Top 5)"
      ]
    },
    {
      "cell_type": "code",
      "metadata": {
        "colab": {
          "base_uri": "https://localhost:8080/",
          "height": 426
        },
        "id": "gM2Ps18QK_WF",
        "outputId": "af898d93-1f1a-48bb-e49b-855a3ec82ad7"
      },
      "source": [
        "data=[]\n",
        "df=pd.read_csv('summer.csv')\n",
        "\n",
        "df=df[df['Medal']=='Gold']\n",
        "for player in df['Athlete'].unique():\n",
        "    data.append([player,len(df[df['Athlete']==player])])\n",
        "data=pd.DataFrame(data,columns=['Player','Gold Medals'])\n",
        "data=data.sort_values(by='Gold Medals',ascending=False).head(5)\n",
        "print(data.plot(x='Player',y='Gold Medals',kind='bar',figsize=(5,5)))"
      ],
      "execution_count": 6,
      "outputs": [
        {
          "output_type": "stream",
          "name": "stdout",
          "text": [
            "AxesSubplot(0.125,0.125;0.775x0.755)\n"
          ]
        },
        {
          "output_type": "display_data",
          "data": {
            "image/png": "[encoded data removed]",
            "text/plain": [
              "<Figure size 360x360 with 1 Axes>"
            ]
          },
          "metadata": {
            "needs_background": "light"
          }
        }
      ]
    },
    {
      "cell_type": "markdown",
      "metadata": {
        "id": "WOBwF9mNMXXA"
      },
      "source": [
        "**PHELPS, Michael** is the player who has won most number Gold Medals of medals."
      ]
    },
    {
      "cell_type": "markdown",
      "metadata": {
        "id": "q6h4z8pGLAC1"
      },
      "source": [
        "##6) In which year India won first Gold Medal in Summer Olympics?"
      ]
    },
    {
      "cell_type": "code",
      "metadata": {
        "colab": {
          "base_uri": "https://localhost:8080/"
        },
        "id": "OCQSAFmhLFKM",
        "outputId": "02fccd31-5680-41a3-cd55-41389fcdea61"
      },
      "source": [
        "data=[]\n",
        "df=pd.read_csv('summer.csv')\n",
        "df=df[df['Country']=='IND']\n",
        "df=df[df['Medal']=='Gold']\n",
        "df=df.sort_values(by='Year',ascending=True).head(1)\n",
        "data = df['Year'].tolist()\n",
        "print(data[0])"
      ],
      "execution_count": 7,
      "outputs": [
        {
          "output_type": "stream",
          "name": "stdout",
          "text": [
            "1928\n"
          ]
        }
      ]
    },
    {
      "cell_type": "markdown",
      "metadata": {
        "id": "5uoBRPVVM5vR"
      },
      "source": [
        "In the year **1928** India won their first Gold medal in Summer Olympics."
      ]
    },
    {
      "cell_type": "markdown",
      "metadata": {
        "id": "wwSFHjrdLFiY"
      },
      "source": [
        "##7) Which event is most popular in terms on number of players? (Top 5)"
      ]
    },
    {
      "cell_type": "code",
      "metadata": {
        "colab": {
          "base_uri": "https://localhost:8080/",
          "height": 431
        },
        "id": "4iQkXeiBLKf0",
        "outputId": "973a8ea4-1c90-4fd6-87ce-c544f106d9b2"
      },
      "source": [
        "data=[]\n",
        "df=pd.read_csv('summer.csv')\n",
        "\n",
        "for event in df['Event'].unique():\n",
        "    data.append([event,len(df[df['Event']==event])])\n",
        "data=pd.DataFrame(data,columns=['Event','No.of.Players'])\n",
        "data=data.sort_values(by='No.of.Players',ascending=False).head(5)\n",
        "print(data.plot(x='Event',y='No.of.Players',kind='bar',figsize=(5,5)))"
      ],
      "execution_count": 8,
      "outputs": [
        {
          "output_type": "stream",
          "name": "stdout",
          "text": [
            "AxesSubplot(0.125,0.125;0.775x0.755)\n"
          ]
        },
        {
          "output_type": "display_data",
          "data": {
            "image/png": "[encoded data removed]",
            "text/plain": [
              "<Figure size 360x360 with 1 Axes>"
            ]
          },
          "metadata": {
            "needs_background": "light"
          }
        }
      ]
    },
    {
      "cell_type": "markdown",
      "metadata": {
        "id": "KAk8I3IHN0Uy"
      },
      "source": [
        "**'Football' ,'Hockey' ,'Team Competition','Basketball','Handball'**  is the most popular event in terms on number of players.   "
      ]
    },
    {
      "cell_type": "markdown",
      "metadata": {
        "id": "hKcyX-J_LK-d"
      },
      "source": [
        "##8) Which sport is having most female Gold Medalists? (Top 5)"
      ]
    },
    {
      "cell_type": "code",
      "metadata": {
        "colab": {
          "base_uri": "https://localhost:8080/",
          "height": 399
        },
        "id": "ipmVsdC5LPDM",
        "outputId": "c65bcd29-4d0b-4158-cb88-d76e0aeb2b8c"
      },
      "source": [
        "data=[]\n",
        "df=pd.read_csv('summer.csv')\n",
        "df=df[df['Gender']=='Women']\n",
        "df=df[df['Medal']=='Gold']\n",
        "for sport in df['Sport'].unique():\n",
        "    data.append([sport,len(df[df['Sport']==sport])])\n",
        "data=pd.DataFrame(data,columns=['Event','No.of.Female Players'])\n",
        "data=data.sort_values(by='No.of.Female Players',ascending=False).head(5)\n",
        "print(data.plot(x='Event',y='No.of.Female Players',kind='bar',figsize=(5,5)))\n"
      ],
      "execution_count": 9,
      "outputs": [
        {
          "output_type": "stream",
          "name": "stdout",
          "text": [
            "AxesSubplot(0.125,0.125;0.775x0.755)\n"
          ]
        },
        {
          "output_type": "display_data",
          "data": {
            "image/png": "[encoded data removed]",
            "text/plain": [
              "<Figure size 360x360 with 1 Axes>"
            ]
          },
          "metadata": {
            "needs_background": "light"
          }
        }
      ]
    },
    {
      "cell_type": "markdown",
      "metadata": {
        "id": "JbK2YYsoNgDx"
      },
      "source": [
        "**'Aquatics', 'Athletics', 'Gymnastics', 'Rowing', 'Volleyball'**  is the sports having most female Gold Medalists"
      ]
    }
  ]
}